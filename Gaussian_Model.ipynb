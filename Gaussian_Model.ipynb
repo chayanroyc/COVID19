{
 "cells": [
  {
   "cell_type": "markdown",
   "metadata": {},
   "source": [
    "# The Gaussian Model\n",
    "## A back-of-the-envelope sketch of COVID-19 infections.\n",
    "### Based on the methodology [in this post](https://towardsdatascience.com/the-gaussian-model-4a94a2b3ff1b)"
   ]
  },
  {
   "cell_type": "code",
   "execution_count": 80,
   "metadata": {},
   "outputs": [],
   "source": [
    "# Import libraries\n",
    "import scipy as sc\n",
    "import numpy as np\n",
    "import pandas as pd\n",
    "import matplotlib.pyplot as plt\n",
    "import matplotlib.dates as mdates\n",
    "#import os\n",
    "#os.getcwd()"
   ]
  },
  {
   "cell_type": "code",
   "execution_count": 3,
   "metadata": {},
   "outputs": [
    {
     "data": {
      "text/html": [
       "<div>\n",
       "<style scoped>\n",
       "    .dataframe tbody tr th:only-of-type {\n",
       "        vertical-align: middle;\n",
       "    }\n",
       "\n",
       "    .dataframe tbody tr th {\n",
       "        vertical-align: top;\n",
       "    }\n",
       "\n",
       "    .dataframe thead th {\n",
       "        text-align: right;\n",
       "    }\n",
       "</style>\n",
       "<table border=\"1\" class=\"dataframe\">\n",
       "  <thead>\n",
       "    <tr style=\"text-align: right;\">\n",
       "      <th></th>\n",
       "      <th>dateRep</th>\n",
       "      <th>day</th>\n",
       "      <th>month</th>\n",
       "      <th>year</th>\n",
       "      <th>cases</th>\n",
       "      <th>deaths</th>\n",
       "      <th>countriesAndTerritories</th>\n",
       "      <th>geoId</th>\n",
       "      <th>countryterritoryCode</th>\n",
       "      <th>popData2018</th>\n",
       "    </tr>\n",
       "  </thead>\n",
       "  <tbody>\n",
       "    <tr>\n",
       "      <th>0</th>\n",
       "      <td>2020-03-28</td>\n",
       "      <td>28</td>\n",
       "      <td>3</td>\n",
       "      <td>2020</td>\n",
       "      <td>16</td>\n",
       "      <td>1</td>\n",
       "      <td>Afghanistan</td>\n",
       "      <td>AF</td>\n",
       "      <td>AFG</td>\n",
       "      <td>37172386.0</td>\n",
       "    </tr>\n",
       "    <tr>\n",
       "      <th>1</th>\n",
       "      <td>2020-03-27</td>\n",
       "      <td>27</td>\n",
       "      <td>3</td>\n",
       "      <td>2020</td>\n",
       "      <td>0</td>\n",
       "      <td>0</td>\n",
       "      <td>Afghanistan</td>\n",
       "      <td>AF</td>\n",
       "      <td>AFG</td>\n",
       "      <td>37172386.0</td>\n",
       "    </tr>\n",
       "    <tr>\n",
       "      <th>2</th>\n",
       "      <td>2020-03-26</td>\n",
       "      <td>26</td>\n",
       "      <td>3</td>\n",
       "      <td>2020</td>\n",
       "      <td>33</td>\n",
       "      <td>0</td>\n",
       "      <td>Afghanistan</td>\n",
       "      <td>AF</td>\n",
       "      <td>AFG</td>\n",
       "      <td>37172386.0</td>\n",
       "    </tr>\n",
       "    <tr>\n",
       "      <th>3</th>\n",
       "      <td>2020-03-25</td>\n",
       "      <td>25</td>\n",
       "      <td>3</td>\n",
       "      <td>2020</td>\n",
       "      <td>2</td>\n",
       "      <td>0</td>\n",
       "      <td>Afghanistan</td>\n",
       "      <td>AF</td>\n",
       "      <td>AFG</td>\n",
       "      <td>37172386.0</td>\n",
       "    </tr>\n",
       "    <tr>\n",
       "      <th>4</th>\n",
       "      <td>2020-03-24</td>\n",
       "      <td>24</td>\n",
       "      <td>3</td>\n",
       "      <td>2020</td>\n",
       "      <td>6</td>\n",
       "      <td>1</td>\n",
       "      <td>Afghanistan</td>\n",
       "      <td>AF</td>\n",
       "      <td>AFG</td>\n",
       "      <td>37172386.0</td>\n",
       "    </tr>\n",
       "  </tbody>\n",
       "</table>\n",
       "</div>"
      ],
      "text/plain": [
       "     dateRep  day  month  year  cases  deaths countriesAndTerritories geoId  \\\n",
       "0 2020-03-28   28      3  2020     16       1             Afghanistan    AF   \n",
       "1 2020-03-27   27      3  2020      0       0             Afghanistan    AF   \n",
       "2 2020-03-26   26      3  2020     33       0             Afghanistan    AF   \n",
       "3 2020-03-25   25      3  2020      2       0             Afghanistan    AF   \n",
       "4 2020-03-24   24      3  2020      6       1             Afghanistan    AF   \n",
       "\n",
       "  countryterritoryCode  popData2018  \n",
       "0                  AFG   37172386.0  \n",
       "1                  AFG   37172386.0  \n",
       "2                  AFG   37172386.0  \n",
       "3                  AFG   37172386.0  \n",
       "4                  AFG   37172386.0  "
      ]
     },
     "execution_count": 3,
     "metadata": {},
     "output_type": "execute_result"
    }
   ],
   "source": [
    "data = pd.read_excel('https://www.ecdc.europa.eu/sites/default/files/documents/COVID-19-geographic-disbtribution-worldwide-2020-03-28.xlsx')\n",
    "data.head()"
   ]
  },
  {
   "cell_type": "code",
   "execution_count": null,
   "metadata": {},
   "outputs": [],
   "source": [
    "country='India'\n",
    "country_data = data[data['countriesAndTerritories'] == country]\n",
    "country_data['dateRep']=pd.to_datetime(country_data['dateRep'],'%Y-%m-%d')\n",
    "country_data.sort_values(by='dateRep',ascending='True',inplace=True)\n",
    "country_data.reset_index(inplace=True)\n",
    "country_data.head()"
   ]
  },
  {
   "cell_type": "code",
   "execution_count": 5,
   "metadata": {},
   "outputs": [
    {
     "data": {
      "text/html": [
       "<div>\n",
       "<style scoped>\n",
       "    .dataframe tbody tr th:only-of-type {\n",
       "        vertical-align: middle;\n",
       "    }\n",
       "\n",
       "    .dataframe tbody tr th {\n",
       "        vertical-align: top;\n",
       "    }\n",
       "\n",
       "    .dataframe thead th {\n",
       "        text-align: right;\n",
       "    }\n",
       "</style>\n",
       "<table border=\"1\" class=\"dataframe\">\n",
       "  <thead>\n",
       "    <tr style=\"text-align: right;\">\n",
       "      <th></th>\n",
       "      <th>index</th>\n",
       "      <th>dateRep</th>\n",
       "      <th>day</th>\n",
       "      <th>month</th>\n",
       "      <th>year</th>\n",
       "      <th>cases</th>\n",
       "      <th>deaths</th>\n",
       "      <th>countriesAndTerritories</th>\n",
       "      <th>geoId</th>\n",
       "      <th>countryterritoryCode</th>\n",
       "      <th>popData2018</th>\n",
       "    </tr>\n",
       "  </thead>\n",
       "  <tbody>\n",
       "    <tr>\n",
       "      <th>87</th>\n",
       "      <td>3028</td>\n",
       "      <td>2020-03-28</td>\n",
       "      <td>28</td>\n",
       "      <td>3</td>\n",
       "      <td>2020</td>\n",
       "      <td>149</td>\n",
       "      <td>2</td>\n",
       "      <td>India</td>\n",
       "      <td>IN</td>\n",
       "      <td>IND</td>\n",
       "      <td>1.352617e+09</td>\n",
       "    </tr>\n",
       "    <tr>\n",
       "      <th>82</th>\n",
       "      <td>3033</td>\n",
       "      <td>2020-03-23</td>\n",
       "      <td>23</td>\n",
       "      <td>3</td>\n",
       "      <td>2020</td>\n",
       "      <td>119</td>\n",
       "      <td>3</td>\n",
       "      <td>India</td>\n",
       "      <td>IN</td>\n",
       "      <td>IND</td>\n",
       "      <td>1.352617e+09</td>\n",
       "    </tr>\n",
       "    <tr>\n",
       "      <th>81</th>\n",
       "      <td>3034</td>\n",
       "      <td>2020-03-22</td>\n",
       "      <td>22</td>\n",
       "      <td>3</td>\n",
       "      <td>2020</td>\n",
       "      <td>89</td>\n",
       "      <td>0</td>\n",
       "      <td>India</td>\n",
       "      <td>IN</td>\n",
       "      <td>IND</td>\n",
       "      <td>1.352617e+09</td>\n",
       "    </tr>\n",
       "    <tr>\n",
       "      <th>85</th>\n",
       "      <td>3030</td>\n",
       "      <td>2020-03-26</td>\n",
       "      <td>26</td>\n",
       "      <td>3</td>\n",
       "      <td>2020</td>\n",
       "      <td>87</td>\n",
       "      <td>4</td>\n",
       "      <td>India</td>\n",
       "      <td>IN</td>\n",
       "      <td>IND</td>\n",
       "      <td>1.352617e+09</td>\n",
       "    </tr>\n",
       "    <tr>\n",
       "      <th>86</th>\n",
       "      <td>3029</td>\n",
       "      <td>2020-03-27</td>\n",
       "      <td>27</td>\n",
       "      <td>3</td>\n",
       "      <td>2020</td>\n",
       "      <td>75</td>\n",
       "      <td>4</td>\n",
       "      <td>India</td>\n",
       "      <td>IN</td>\n",
       "      <td>IND</td>\n",
       "      <td>1.352617e+09</td>\n",
       "    </tr>\n",
       "  </tbody>\n",
       "</table>\n",
       "</div>"
      ],
      "text/plain": [
       "    index    dateRep  day  month  year  cases  deaths countriesAndTerritories  \\\n",
       "87   3028 2020-03-28   28      3  2020    149       2                   India   \n",
       "82   3033 2020-03-23   23      3  2020    119       3                   India   \n",
       "81   3034 2020-03-22   22      3  2020     89       0                   India   \n",
       "85   3030 2020-03-26   26      3  2020     87       4                   India   \n",
       "86   3029 2020-03-27   27      3  2020     75       4                   India   \n",
       "\n",
       "   geoId countryterritoryCode   popData2018  \n",
       "87    IN                  IND  1.352617e+09  \n",
       "82    IN                  IND  1.352617e+09  \n",
       "81    IN                  IND  1.352617e+09  \n",
       "85    IN                  IND  1.352617e+09  \n",
       "86    IN                  IND  1.352617e+09  "
      ]
     },
     "execution_count": 5,
     "metadata": {},
     "output_type": "execute_result"
    }
   ],
   "source": [
    "max_data = country_data.sort_values('cases',ascending=False)\n",
    "max_data.head()"
   ]
  },
  {
   "cell_type": "code",
   "execution_count": 128,
   "metadata": {},
   "outputs": [
    {
     "data": {
      "text/plain": [
       "Text(0.5, 1.0, 'India - Current')"
      ]
     },
     "execution_count": 128,
     "metadata": {},
     "output_type": "execute_result"
    },
    {
     "data": {
      "image/png": "[encoded data removed]",
      "text/plain": [
       "<Figure size 720x432 with 2 Axes>"
      ]
     },
     "metadata": {
      "needs_background": "light"
     },
     "output_type": "display_data"
    }
   ],
   "source": [
    "country_cases = country_data['cases']\n",
    "country_deaths = country_data['deaths']\n",
    "country_mortality_rate = country_data['deaths']*100/country_data['cases']\n",
    "country_mortality_rate.replace(np.nan,0,inplace=True)\n",
    "\n",
    "fig, ax = plt.subplots(figsize=(10,6))\n",
    "ax.bar(country_data['dateRep'],country_cases,label='Cases',alpha=0.7)\n",
    "ax.bar(country_data['dateRep'],country_deaths,label='Deaths')\n",
    "ax2 = ax.twinx()\n",
    "ax2.scatter(country_data['dateRep'],country_mortality_rate,s=country_mortality_rate*10,\n",
    "            c='r',alpha=0.7,label='Mortality Rate')\n",
    "myFmt = mdates.DateFormatter('%d-%b')\n",
    "ax.xaxis.set_major_formatter(myFmt)\n",
    "fig.autofmt_xdate()\n",
    "ax.legend()\n",
    "ax2.legend(loc='upper center')\n",
    "ax.set_title('India - Current')"
   ]
  },
  {
   "cell_type": "code",
   "execution_count": 6,
   "metadata": {},
   "outputs": [
    {
     "data": {
      "text/plain": [
       "(149, 87, 8.8)"
      ]
     },
     "execution_count": 6,
     "metadata": {},
     "output_type": "execute_result"
    }
   ],
   "source": [
    "x = range(len(country_data))\n",
    "y = country_data['cases'].values\n",
    "est_mu = max_data.index[0]\n",
    "est_N = y.max()\n",
    "est_sigma = len(country_data)/10\n",
    "est_N, est_mu,len(country_data)/10"
   ]
  },
  {
   "cell_type": "code",
   "execution_count": 17,
   "metadata": {},
   "outputs": [
    {
     "name": "stdout",
     "output_type": "stream",
     "text": [
      "Results from LMFIT: \n",
      "  [[Model]]\n",
      "    Model(gauss)\n",
      "[[Fit Statistics]]\n",
      "    # fitting method   = leastsq\n",
      "    # function evals   = 29\n",
      "    # data points      = 88\n",
      "    # variables        = 3\n",
      "    chi-square         = 8465.45186\n",
      "    reduced chi-square = 99.5935512\n",
      "    Akaike info crit   = 407.844244\n",
      "    Bayesian info crit = 415.276254\n",
      "[[Variables]]\n",
      "    N:      213.253041 +/- 167.209919 (78.41%) (init = 149)\n",
      "    mu:     98.1921810 +/- 10.9267081 (11.13%) (init = 81.53952)\n",
      "    sigma:  10.4538361 +/- 3.51167259 (33.59%) (init = 5.961973)\n",
      "[[Correlations]] (unreported correlations are < 0.100)\n",
      "    C(N, mu)     =  0.992\n",
      "    C(mu, sigma) =  0.990\n",
      "    C(N, sigma)  =  0.967\n"
     ]
    }
   ],
   "source": [
    "from astropy import modeling\n",
    "\n",
    "init_m = modeling.models.Gaussian1D(amplitude=est_N, mean=est_mu, stddev=est_sigma)\n",
    "fit_m = modeling.fitting.LevMarLSQFitter()\n",
    "m = fit_m(init_m, x, y)\n",
    "y_fa = m(x)\n",
    "m\n",
    "\n",
    "from scipy.optimize import curve_fit\n",
    "\n",
    "def gauss(x,N,mu,sigma):\n",
    "    return N*np.exp(-(x-mu)**2/(2*sigma**2))\n",
    "\n",
    "mean = sum(x * y) / sum(y)\n",
    "sigma = np.sqrt(sum(y * (x - mean)**2) / sum(y))\n",
    "\n",
    "popt,pcov = curve_fit(gauss,x,y,p0=[est_N,mean,sigma],maxfev=10000)\n",
    "y_fs = gauss(x,*popt)\n",
    "\n",
    "from lmfit import Model\n",
    "gmodel = Model(gauss)\n",
    "y_flm = gmodel.fit(y, x=x, N=est_N, mu=mean, sigma=sigma)\n",
    "\n",
    "print('Results from LMFIT: \\n ',result.fit_report())\n",
    "\n"
   ]
  },
  {
   "cell_type": "code",
   "execution_count": 56,
   "metadata": {},
   "outputs": [
    {
     "name": "stdout",
     "output_type": "stream",
     "text": [
      "Your best fit parameters with uncertainity are (from lmfit, \n",
      "\n"
     ]
    },
    {
     "data": {
      "text/html": [
       "<table><tr><th> name </th><th> value </th><th> standard error </th><th> relative error </th><th> initial value </th><th> min </th><th> max </th><th> vary </th></tr><tr><td> N </td><td>  213.253041 </td><td>  167.209919 </td><td> (78.41%) </td><td> 149 </td><td>        -inf </td><td>         inf </td><td> True </td></tr><tr><td> mu </td><td>  98.1921810 </td><td>  10.9267081 </td><td> (11.13%) </td><td> 81.53951890034364 </td><td>        -inf </td><td>         inf </td><td> True </td></tr><tr><td> sigma </td><td>  10.4538361 </td><td>  3.51167259 </td><td> (33.59%) </td><td> 5.961972524084292 </td><td>        -inf </td><td>         inf </td><td> True </td></tr></table>"
      ],
      "text/plain": [
       "Parameters([('N',\n",
       "             <Parameter 'N', value=213.25304090952332 +/- 167, bounds=[-inf:inf]>),\n",
       "            ('mu',\n",
       "             <Parameter 'mu', value=98.19218095446992 +/- 10.9, bounds=[-inf:inf]>),\n",
       "            ('sigma',\n",
       "             <Parameter 'sigma', value=10.453836076549361 +/- 3.51, bounds=[-inf:inf]>)])"
      ]
     },
     "execution_count": 56,
     "metadata": {},
     "output_type": "execute_result"
    }
   ],
   "source": [
    "print('Your best fit parameters with uncertainity are (from lmfit, \\n')\n",
    "y_flm.params"
   ]
  },
  {
   "cell_type": "code",
   "execution_count": 57,
   "metadata": {},
   "outputs": [
    {
     "name": "stdout",
     "output_type": "stream",
     "text": [
      "Your initial parameters were (astropy) \n",
      " N = 149 \t mu = 87 \t sigma = 8.8\n",
      "Your initial parameters were (scipy) \n",
      " N = 149 \t mu = 82 \t sigma = 6\n",
      "\n",
      " Your fitted parameters were (astropy) \n",
      " N = 213 \t mu = 98 \t sigma = 10\n",
      "\n",
      " Your fitted parameters were (scipy) \n",
      " N = 213 \t mu = 98 \t sigma = 10\n",
      "\n",
      "Total cases till today,  873\n",
      "Model Cases (model total area), 5589 \n",
      "Accuracy of the Gaussian model, 640% \n",
      "Area fraction - India is about 16% into COVID-19\n"
     ]
    },
    {
     "data": {
      "image/png": "[encoded data removed]",
      "text/plain": [
       "<Figure size 720x360 with 1 Axes>"
      ]
     },
     "metadata": {
      "needs_background": "light"
     },
     "output_type": "display_data"
    }
   ],
   "source": [
    "fig, ax = plt.subplots(figsize=(10,5))\n",
    "ax.plot(x,y_fs,'b',lw=1,label='scipy')\n",
    "ax.scatter(x,y_fa,c='g',marker='s',label='astropy',alpha=0.5)\n",
    "ax.scatter(x,y_flm.best_fit,c='r',marker='+',label='lmfit',alpha=0.8)\n",
    "ax.scatter(x,y_flm.init_fit,c='deeppink',marker='+',label='lmfit with initial params',alpha=0.8)\n",
    "ax.bar(x,y,alpha=0.5,color='red',label='Actual')\n",
    "textstr = '\\n'.join((\n",
    "    r'$\\mu=%.0f$' % (m.mean[0], ),\n",
    "    r'$\\mathrm{N}=%.0f$' % (m.amplitude[0], ),\n",
    "    r'$\\sigma=%.0f$' % (m.stddev[0], )))\n",
    "props = dict(boxstyle='round', facecolor='white', alpha=0.5)\n",
    "ax.text(0.7, 0.95, textstr, transform=ax.transAxes, fontsize=12,\n",
    "        verticalalignment='top', bbox=props)\n",
    "plt.title(country,fontsize=18)\n",
    "plt.xlabel('Days')\n",
    "plt.ylabel('New cases each day')\n",
    "plt.legend(loc='upper left')\n",
    "\n",
    "\n",
    "print('Your initial parameters were (astropy) \\n N = {} \\t mu = {} \\t sigma = {}'.format(est_N,est_mu,est_sigma))\n",
    "print('Your initial parameters were (scipy) \\n N = {} \\t mu = {:.0f} \\t sigma = {:.0f}'.format(est_N,mean,sigma))\n",
    "print('\\n Your fitted parameters were (astropy) \\n N = {:.0f} \\t mu = {:.0f} \\t sigma = {:.0f}'.format(m.amplitude[0],m.mean[0],m.stddev[0]))\n",
    "print('\\n Your fitted parameters were (scipy) \\n N = {:.0f} \\t mu = {:.0f} \\t sigma = {:.0f}'.format(*popt))\n",
    "total_cases = country_data['cases'].sum()\n",
    "print('\\nTotal cases till today, ',total_cases)\n",
    "model_cases = m.amplitude[0]*m.stddev[0]*np.sqrt(2*np.pi)\n",
    "print(\"Model Cases (model total area), {:.0f} \" .format(model_cases))\n",
    "print('Accuracy of the Gaussian model, {:.0f}% '.format(model_cases*100/total_cases))\n",
    "area_frac = total_cases/model_cases\n",
    "print('Area fraction - {} is about {:.0f}% into COVID-19'.format(country,area_frac*100))"
   ]
  },
  {
   "cell_type": "code",
   "execution_count": 59,
   "metadata": {},
   "outputs": [
    {
     "data": {
      "text/plain": [
       "(<Figure size 432x432 with 2 Axes>, GridSpec(2, 1, height_ratios=[1, 4]))"
      ]
     },
     "execution_count": 59,
     "metadata": {},
     "output_type": "execute_result"
    },
    {
     "data": {
      "image/png": "[encoded data removed]",
      "text/plain": [
       "<Figure size 432x432 with 2 Axes>"
      ]
     },
     "metadata": {
      "needs_background": "light"
     },
     "output_type": "display_data"
    }
   ],
   "source": [
    "y_flm.plot()"
   ]
  },
  {
   "cell_type": "code",
   "execution_count": null,
   "metadata": {},
   "outputs": [],
   "source": []
  }
 ],
 "metadata": {
  "file_extension": ".py",
  "kernelspec": {
   "display_name": "Python 3",
   "language": "python",
   "name": "python3"
  },
  "language_info": {
   "codemirror_mode": {
    "name": "ipython",
    "version": 3
   },
   "file_extension": ".py",
   "mimetype": "text/x-python",
   "name": "python",
   "nbconvert_exporter": "python",
   "pygments_lexer": "ipython3",
   "version": "3.7.7"
  },
  "mimetype": "text/x-python",
  "name": "python",
  "npconvert_exporter": "python",
  "pygments_lexer": "ipython3",
  "version": 3
 },
 "nbformat": 4,
 "nbformat_minor": 4
}
